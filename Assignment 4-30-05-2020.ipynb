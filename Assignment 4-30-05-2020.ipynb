{
 "cells": [
  {
   "cell_type": "markdown",
   "metadata": {},
   "source": [
    "## CSE-221710309059-v praveenkumar\n"
   ]
  },
  {
   "cell_type": "code",
   "execution_count": 9,
   "metadata": {},
   "outputs": [
    {
     "name": "stdout",
     "output_type": "stream",
     "text": [
      "enter file name:sample.txt\n",
      "Number of lines 1\n",
      "Number of words 8\n",
      "Number of letters 58\n"
     ]
    }
   ],
   "source": [
    "#answer 1\n",
    "\n",
    "\n",
    "fname=input(\"enter file name:\")\n",
    "\n",
    "num_words=0\n",
    "num_lines=0\n",
    "num_letter=0\n",
    "with open(fname,\"r\") as f:\n",
    "    for line in f:\n",
    "        words =line.split()\n",
    "        num_words+= len(words)\n",
    "with open(fname,\"r\") as f:\n",
    "    for line in f:\n",
    "        num_lines+=1\n",
    "with open(fname,\"r\") as f:\n",
    "    for line in f:\n",
    "        words=line.split()\n",
    "        for i in words:\n",
    "            \n",
    "              num_letter+=len(i)\n",
    "print(\"Number of lines\",num_lines)\n",
    "print(\"Number of words\",num_words)\n",
    "print(\"Number of letters\",num_letter)\n"
   ]
  },
  {
   "cell_type": "code",
   "execution_count": 10,
   "metadata": {},
   "outputs": [
    {
     "name": "stdout",
     "output_type": "stream",
     "text": [
      "Data Science with python,Advance programming,AI and ML,Full Stack\n"
     ]
    }
   ],
   "source": [
    "#answer 2\n",
    "\n",
    "\n",
    "f=open(\"sample.txt\",\"w\")\n",
    "f.write(\"Data Science with python,Advance programming,AI and ML,Full Stack\")\n",
    "f.close()\n",
    "\n",
    "f=open(\"sample.txt\",\"r\")\n",
    "data=f.read()\n",
    "print(data)\n",
    "f.close()\n",
    "\n",
    "f=open(\"sample1.txt\",\"w\")\n",
    "f.write(\"\")\n",
    "f.close()\n",
    "\n",
    "\n",
    "with open(\"sample.txt\") as f:\n",
    "    with open(\"sample1.txt\",\"w\") as f1:\n",
    "        for line in f:\n",
    "            f1.write(line)"
   ]
  },
  {
   "cell_type": "code",
   "execution_count": 11,
   "metadata": {},
   "outputs": [
    {
     "name": "stdout",
     "output_type": "stream",
     "text": [
      "pencil\n",
      "paper\n",
      "pen\n"
     ]
    }
   ],
   "source": [
    "#answer 3\n",
    "\n",
    "st= 'pencil sharpner paper eraser pen'\n",
    "\n",
    "List=st.split()\n",
    "for s in List:\n",
    "    if s.startswith('p'):\n",
    "        print(s)\n",
    "        "
   ]
  },
  {
   "cell_type": "code",
   "execution_count": 12,
   "metadata": {},
   "outputs": [],
   "source": [
    "#answer 4\n",
    "\n",
    "import os\n",
    "#rename a file from sample1.txt to courseOpted.txt\n",
    "os.rename(\"sample1.txt\",\"CourseOpted.txt\")"
   ]
  },
  {
   "cell_type": "code",
   "execution_count": 13,
   "metadata": {},
   "outputs": [],
   "source": [
    "import os\n",
    "#Delete file CourseOpted.txt\n",
    "os.remove(\"CourseOpted.txt\")"
   ]
  },
  {
   "cell_type": "code",
   "execution_count": null,
   "metadata": {},
   "outputs": [],
   "source": []
  }
 ],
 "metadata": {
  "kernelspec": {
   "display_name": "Python 3",
   "language": "python",
   "name": "python3"
  },
  "language_info": {
   "codemirror_mode": {
    "name": "ipython",
    "version": 3
   },
   "file_extension": ".py",
   "mimetype": "text/x-python",
   "name": "python",
   "nbconvert_exporter": "python",
   "pygments_lexer": "ipython3",
   "version": "3.7.4"
  }
 },
 "nbformat": 4,
 "nbformat_minor": 4
}
